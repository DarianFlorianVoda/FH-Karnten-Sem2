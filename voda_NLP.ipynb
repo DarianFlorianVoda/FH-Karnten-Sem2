{
 "cells": [
  {
   "cell_type": "markdown",
   "source": [
    "## Voda Darian-Florian - NLP on YouTube Spam Collection Data Set"
   ],
   "metadata": {
    "collapsed": false
   }
  },
  {
   "cell_type": "markdown",
   "source": [
    "## Import libraries"
   ],
   "metadata": {
    "collapsed": false
   }
  },
  {
   "cell_type": "code",
   "execution_count": 247,
   "metadata": {
    "collapsed": true
   },
   "outputs": [],
   "source": [
    "import pandas as pd\n",
    "from matplotlib import pyplot as plt\n",
    "import seaborn as sns\n",
    "from sklearn.metrics import accuracy_score, recall_score, f1_score\n",
    "from sklearn.metrics import precision_score\n",
    "import re\n",
    "from nltk.corpus import stopwords\n",
    "from nltk.stem import WordNetLemmatizer\n",
    "from sklearn.model_selection import train_test_split\n",
    "from sklearn.feature_extraction.text import CountVectorizer\n",
    "from gensim.models import Word2Vec\n",
    "import numpy as np\n",
    "from sklearn.linear_model import LogisticRegression\n",
    "from sklearn import metrics"
   ]
  },
  {
   "cell_type": "markdown",
   "source": [
    "## Import dataset"
   ],
   "metadata": {
    "collapsed": false
   }
  },
  {
   "cell_type": "code",
   "execution_count": 248,
   "outputs": [
    {
     "name": "stdout",
     "output_type": "stream",
     "text": [
      "data shape: (1956, 5)\n"
     ]
    },
    {
     "data": {
      "text/plain": "                                    COMMENT_ID            AUTHOR  \\\n0  LZQPQhLyRh80UYxNuaDWhIGQYNQ96IuCg-AYWqNPjpU         Julius NM   \n1  LZQPQhLyRh_C2cTtd9MvFRJedxydaVW-2sNg5Diuo4A       adam riyati   \n2  LZQPQhLyRh9MSZYnf8djyk0gEF9BHDPYrrK-qCczIY8  Evgeny Murashkin   \n3          z13jhp0bxqncu512g22wvzkasxmvvzjaz04   ElNino Melendez   \n4          z13fwbwp1oujthgqj04chlngpvzmtt3r3dw            GsMega   \n\n                  DATE                                            CONTENT  \\\n0  2013-11-07T06:20:48  Huh, anyway check out this you[tube] channel: ...   \n1  2013-11-07T12:37:15  Hey guys check out my new channel and our firs...   \n2  2013-11-08T17:34:21             just for test I have to say murdev.com   \n3  2013-11-09T08:28:43   me shaking my sexy ass on my channel enjoy ^_^ ﻿   \n4  2013-11-10T16:05:38            watch?v=vtaRGgvGtWQ   Check this out .﻿   \n\n   CLASS  \n0      1  \n1      1  \n2      1  \n3      1  \n4      1  ",
      "text/html": "<div>\n<style scoped>\n    .dataframe tbody tr th:only-of-type {\n        vertical-align: middle;\n    }\n\n    .dataframe tbody tr th {\n        vertical-align: top;\n    }\n\n    .dataframe thead th {\n        text-align: right;\n    }\n</style>\n<table border=\"1\" class=\"dataframe\">\n  <thead>\n    <tr style=\"text-align: right;\">\n      <th></th>\n      <th>COMMENT_ID</th>\n      <th>AUTHOR</th>\n      <th>DATE</th>\n      <th>CONTENT</th>\n      <th>CLASS</th>\n    </tr>\n  </thead>\n  <tbody>\n    <tr>\n      <th>0</th>\n      <td>LZQPQhLyRh80UYxNuaDWhIGQYNQ96IuCg-AYWqNPjpU</td>\n      <td>Julius NM</td>\n      <td>2013-11-07T06:20:48</td>\n      <td>Huh, anyway check out this you[tube] channel: ...</td>\n      <td>1</td>\n    </tr>\n    <tr>\n      <th>1</th>\n      <td>LZQPQhLyRh_C2cTtd9MvFRJedxydaVW-2sNg5Diuo4A</td>\n      <td>adam riyati</td>\n      <td>2013-11-07T12:37:15</td>\n      <td>Hey guys check out my new channel and our firs...</td>\n      <td>1</td>\n    </tr>\n    <tr>\n      <th>2</th>\n      <td>LZQPQhLyRh9MSZYnf8djyk0gEF9BHDPYrrK-qCczIY8</td>\n      <td>Evgeny Murashkin</td>\n      <td>2013-11-08T17:34:21</td>\n      <td>just for test I have to say murdev.com</td>\n      <td>1</td>\n    </tr>\n    <tr>\n      <th>3</th>\n      <td>z13jhp0bxqncu512g22wvzkasxmvvzjaz04</td>\n      <td>ElNino Melendez</td>\n      <td>2013-11-09T08:28:43</td>\n      <td>me shaking my sexy ass on my channel enjoy ^_^ ﻿</td>\n      <td>1</td>\n    </tr>\n    <tr>\n      <th>4</th>\n      <td>z13fwbwp1oujthgqj04chlngpvzmtt3r3dw</td>\n      <td>GsMega</td>\n      <td>2013-11-10T16:05:38</td>\n      <td>watch?v=vtaRGgvGtWQ   Check this out .﻿</td>\n      <td>1</td>\n    </tr>\n  </tbody>\n</table>\n</div>"
     },
     "execution_count": 248,
     "metadata": {},
     "output_type": "execute_result"
    }
   ],
   "source": [
    "df = pd.concat(map(pd.read_csv, [r'C:\\Users\\daria\\PycharmProjects\\FH-Karnten-Sem2\\Youtube01-Psy.csv', r'C:\\Users\\daria\\PycharmProjects\\FH-Karnten-Sem2\\Youtube02-KatyPerry.csv', r'C:\\Users\\daria\\PycharmProjects\\FH-Karnten-Sem2\\Youtube03-LMFAO.csv', r'C:\\Users\\daria\\PycharmProjects\\FH-Karnten-Sem2\\Youtube04-Eminem.csv', r'C:\\Users\\daria\\PycharmProjects\\FH-Karnten-Sem2\\Youtube05-Shakira.csv']))\n",
    "print(f'data shape: {df.shape}')\n",
    "df.head(5)"
   ],
   "metadata": {
    "collapsed": false,
    "pycharm": {
     "name": "#%%\n"
    }
   }
  },
  {
   "cell_type": "markdown",
   "source": [
    "#### Keep in mind that: 1 - SPAM CONTENT, 0 - NOT SPAM CONTENT"
   ],
   "metadata": {
    "collapsed": false
   }
  },
  {
   "cell_type": "markdown",
   "source": [
    "## Exploratory Data Analysis (EDA)"
   ],
   "metadata": {
    "collapsed": false
   }
  },
  {
   "cell_type": "code",
   "execution_count": 249,
   "outputs": [
    {
     "data": {
      "text/plain": "             CLASS\ncount  1956.000000\nmean      0.513804\nstd       0.499937\nmin       0.000000\n25%       0.000000\n50%       1.000000\n75%       1.000000\nmax       1.000000",
      "text/html": "<div>\n<style scoped>\n    .dataframe tbody tr th:only-of-type {\n        vertical-align: middle;\n    }\n\n    .dataframe tbody tr th {\n        vertical-align: top;\n    }\n\n    .dataframe thead th {\n        text-align: right;\n    }\n</style>\n<table border=\"1\" class=\"dataframe\">\n  <thead>\n    <tr style=\"text-align: right;\">\n      <th></th>\n      <th>CLASS</th>\n    </tr>\n  </thead>\n  <tbody>\n    <tr>\n      <th>count</th>\n      <td>1956.000000</td>\n    </tr>\n    <tr>\n      <th>mean</th>\n      <td>0.513804</td>\n    </tr>\n    <tr>\n      <th>std</th>\n      <td>0.499937</td>\n    </tr>\n    <tr>\n      <th>min</th>\n      <td>0.000000</td>\n    </tr>\n    <tr>\n      <th>25%</th>\n      <td>0.000000</td>\n    </tr>\n    <tr>\n      <th>50%</th>\n      <td>1.000000</td>\n    </tr>\n    <tr>\n      <th>75%</th>\n      <td>1.000000</td>\n    </tr>\n    <tr>\n      <th>max</th>\n      <td>1.000000</td>\n    </tr>\n  </tbody>\n</table>\n</div>"
     },
     "execution_count": 249,
     "metadata": {},
     "output_type": "execute_result"
    }
   ],
   "source": [
    "df.describe()"
   ],
   "metadata": {
    "collapsed": false,
    "pycharm": {
     "name": "#%%\n"
    }
   }
  },
  {
   "cell_type": "code",
   "execution_count": 250,
   "outputs": [
    {
     "name": "stdout",
     "output_type": "stream",
     "text": [
      "<class 'pandas.core.frame.DataFrame'>\n",
      "Int64Index: 1956 entries, 0 to 369\n",
      "Data columns (total 5 columns):\n",
      " #   Column      Non-Null Count  Dtype \n",
      "---  ------      --------------  ----- \n",
      " 0   COMMENT_ID  1956 non-null   object\n",
      " 1   AUTHOR      1956 non-null   object\n",
      " 2   DATE        1711 non-null   object\n",
      " 3   CONTENT     1956 non-null   object\n",
      " 4   CLASS       1956 non-null   int64 \n",
      "dtypes: int64(1), object(4)\n",
      "memory usage: 91.7+ KB\n"
     ]
    }
   ],
   "source": [
    "df.info()"
   ],
   "metadata": {
    "collapsed": false,
    "pycharm": {
     "name": "#%%\n"
    }
   }
  },
  {
   "cell_type": "code",
   "execution_count": 251,
   "outputs": [
    {
     "data": {
      "text/plain": "COMMENT_ID      0\nAUTHOR          0\nDATE          245\nCONTENT         0\nCLASS           0\ndtype: int64"
     },
     "execution_count": 251,
     "metadata": {},
     "output_type": "execute_result"
    }
   ],
   "source": [
    "df.isnull().sum()"
   ],
   "metadata": {
    "collapsed": false,
    "pycharm": {
     "name": "#%%\n"
    }
   }
  },
  {
   "cell_type": "markdown",
   "source": [
    "There are 245 NULL values in the dataset, but this feature will be removed\n",
    "We also have to see the distribution of the two classes"
   ],
   "metadata": {
    "collapsed": false
   }
  },
  {
   "cell_type": "code",
   "execution_count": 252,
   "outputs": [
    {
     "data": {
      "text/plain": "      COMMENT_ID                                                           \\\n           count unique                                          top freq   \nCLASS                                                                       \n0            951    950  _2viQ_Qnc68fX3dYsfYuM-m4ELMJvxOQBmBOFHqGOk0    2   \n1           1005   1003  LneaDw26bFvPh9xBHNw1btQoyP60ay_WWthtvXCx37s    2   \n\n      AUTHOR                        DATE                                     \\\n       count unique       top freq count unique                         top   \nCLASS                                                                         \n0        951    922  5000palo    7   951    950  2013-10-05T00:57:25.078000   \n1       1005    871     M.E.S    8   760    760         2013-11-07T06:20:48   \n\n           CONTENT                                                 \n      freq   count unique                                top freq  \nCLASS                                                              \n0        2     951    919                              Like﻿    4  \n1        1    1005    841  Check out this video on YouTube:﻿   97  ",
      "text/html": "<div>\n<style scoped>\n    .dataframe tbody tr th:only-of-type {\n        vertical-align: middle;\n    }\n\n    .dataframe tbody tr th {\n        vertical-align: top;\n    }\n\n    .dataframe thead tr th {\n        text-align: left;\n    }\n\n    .dataframe thead tr:last-of-type th {\n        text-align: right;\n    }\n</style>\n<table border=\"1\" class=\"dataframe\">\n  <thead>\n    <tr>\n      <th></th>\n      <th colspan=\"4\" halign=\"left\">COMMENT_ID</th>\n      <th colspan=\"4\" halign=\"left\">AUTHOR</th>\n      <th colspan=\"4\" halign=\"left\">DATE</th>\n      <th colspan=\"4\" halign=\"left\">CONTENT</th>\n    </tr>\n    <tr>\n      <th></th>\n      <th>count</th>\n      <th>unique</th>\n      <th>top</th>\n      <th>freq</th>\n      <th>count</th>\n      <th>unique</th>\n      <th>top</th>\n      <th>freq</th>\n      <th>count</th>\n      <th>unique</th>\n      <th>top</th>\n      <th>freq</th>\n      <th>count</th>\n      <th>unique</th>\n      <th>top</th>\n      <th>freq</th>\n    </tr>\n    <tr>\n      <th>CLASS</th>\n      <th></th>\n      <th></th>\n      <th></th>\n      <th></th>\n      <th></th>\n      <th></th>\n      <th></th>\n      <th></th>\n      <th></th>\n      <th></th>\n      <th></th>\n      <th></th>\n      <th></th>\n      <th></th>\n      <th></th>\n      <th></th>\n    </tr>\n  </thead>\n  <tbody>\n    <tr>\n      <th>0</th>\n      <td>951</td>\n      <td>950</td>\n      <td>_2viQ_Qnc68fX3dYsfYuM-m4ELMJvxOQBmBOFHqGOk0</td>\n      <td>2</td>\n      <td>951</td>\n      <td>922</td>\n      <td>5000palo</td>\n      <td>7</td>\n      <td>951</td>\n      <td>950</td>\n      <td>2013-10-05T00:57:25.078000</td>\n      <td>2</td>\n      <td>951</td>\n      <td>919</td>\n      <td>Like﻿</td>\n      <td>4</td>\n    </tr>\n    <tr>\n      <th>1</th>\n      <td>1005</td>\n      <td>1003</td>\n      <td>LneaDw26bFvPh9xBHNw1btQoyP60ay_WWthtvXCx37s</td>\n      <td>2</td>\n      <td>1005</td>\n      <td>871</td>\n      <td>M.E.S</td>\n      <td>8</td>\n      <td>760</td>\n      <td>760</td>\n      <td>2013-11-07T06:20:48</td>\n      <td>1</td>\n      <td>1005</td>\n      <td>841</td>\n      <td>Check out this video on YouTube:﻿</td>\n      <td>97</td>\n    </tr>\n  </tbody>\n</table>\n</div>"
     },
     "execution_count": 252,
     "metadata": {},
     "output_type": "execute_result"
    }
   ],
   "source": [
    "# Describe each feature grouped by class\n",
    "df.groupby(['CLASS']).describe()"
   ],
   "metadata": {
    "collapsed": false,
    "pycharm": {
     "name": "#%%\n"
    }
   }
  },
  {
   "cell_type": "code",
   "execution_count": 253,
   "outputs": [
    {
     "data": {
      "text/plain": "Text(0.5, 1.0, 'Distribution of class')"
     },
     "execution_count": 253,
     "metadata": {},
     "output_type": "execute_result"
    },
    {
     "data": {
      "text/plain": "<Figure size 640x480 with 1 Axes>",
      "image/png": "[encoded data removed]"
     },
     "metadata": {},
     "output_type": "display_data"
    }
   ],
   "source": [
    "df['CLASS'].value_counts().plot(kind='bar')\n",
    "plt.title(\"Distribution of class\")"
   ],
   "metadata": {
    "collapsed": false,
    "pycharm": {
     "name": "#%%\n"
    }
   }
  },
  {
   "cell_type": "markdown",
   "source": [
    "After all this EDA we can conclude that:\n",
    "- There are 0 values for many features"
   ],
   "metadata": {
    "collapsed": false
   }
  },
  {
   "cell_type": "markdown",
   "source": [
    "## Data Preprocessing"
   ],
   "metadata": {
    "collapsed": false
   }
  },
  {
   "cell_type": "code",
   "execution_count": 254,
   "outputs": [
    {
     "data": {
      "text/plain": "                                      COMMENT_ID                AUTHOR  \\\n0    LZQPQhLyRh80UYxNuaDWhIGQYNQ96IuCg-AYWqNPjpU             Julius NM   \n1    LZQPQhLyRh_C2cTtd9MvFRJedxydaVW-2sNg5Diuo4A           adam riyati   \n2    LZQPQhLyRh9MSZYnf8djyk0gEF9BHDPYrrK-qCczIY8      Evgeny Murashkin   \n3            z13jhp0bxqncu512g22wvzkasxmvvzjaz04       ElNino Melendez   \n4            z13fwbwp1oujthgqj04chlngpvzmtt3r3dw                GsMega   \n..                                           ...                   ...   \n365  _2viQ_Qnc6-bMSjqyL1NKj57ROicCSJV5SwTrw-RFFA          Katie Mettam   \n366  _2viQ_Qnc6-pY-1yR6K2FhmC5i48-WuNx5CumlHLDAI  Sabina Pearson-Smith   \n367  _2viQ_Qnc6_k_n_Bse9zVhJP8tJReZpo8uM2uZfnzDs         jeffrey jules   \n368  _2viQ_Qnc6_yBt8UGMWyg3vh0PulTqcqyQtdE7d4Fl0        Aishlin Maciel   \n369  _2viQ_Qnc685RPw1aSa1tfrIuHXRvAQ2rPT9R06KTqA           Latin Bosch   \n\n                           DATE  \\\n0           2013-11-07T06:20:48   \n1           2013-11-07T12:37:15   \n2           2013-11-08T17:34:21   \n3           2013-11-09T08:28:43   \n4           2013-11-10T16:05:38   \n..                          ...   \n365  2013-07-13T13:27:39.441000   \n366  2013-07-13T13:14:30.021000   \n367  2013-07-13T12:09:31.188000   \n368  2013-07-13T11:17:52.308000   \n369  2013-07-12T22:33:27.916000   \n\n                                               CONTENT  CLASS  \n0    Huh, anyway check out this you[tube] channel: ...      1  \n1    Hey guys check out my new channel and our firs...      1  \n2               just for test I have to say murdev.com      1  \n3     me shaking my sexy ass on my channel enjoy ^_^ ﻿      1  \n4              watch?v=vtaRGgvGtWQ   Check this out .﻿      1  \n..                                                 ...    ...  \n365  I love this song because we sing it at Camp al...      0  \n366  I love this song for two reasons: 1.it is abou...      0  \n367                                                wow      0  \n368                            Shakira u are so wiredo      0  \n369                         Shakira is the best dancer      0  \n\n[1956 rows x 5 columns]",
      "text/html": "<div>\n<style scoped>\n    .dataframe tbody tr th:only-of-type {\n        vertical-align: middle;\n    }\n\n    .dataframe tbody tr th {\n        vertical-align: top;\n    }\n\n    .dataframe thead th {\n        text-align: right;\n    }\n</style>\n<table border=\"1\" class=\"dataframe\">\n  <thead>\n    <tr style=\"text-align: right;\">\n      <th></th>\n      <th>COMMENT_ID</th>\n      <th>AUTHOR</th>\n      <th>DATE</th>\n      <th>CONTENT</th>\n      <th>CLASS</th>\n    </tr>\n  </thead>\n  <tbody>\n    <tr>\n      <th>0</th>\n      <td>LZQPQhLyRh80UYxNuaDWhIGQYNQ96IuCg-AYWqNPjpU</td>\n      <td>Julius NM</td>\n      <td>2013-11-07T06:20:48</td>\n      <td>Huh, anyway check out this you[tube] channel: ...</td>\n      <td>1</td>\n    </tr>\n    <tr>\n      <th>1</th>\n      <td>LZQPQhLyRh_C2cTtd9MvFRJedxydaVW-2sNg5Diuo4A</td>\n      <td>adam riyati</td>\n      <td>2013-11-07T12:37:15</td>\n      <td>Hey guys check out my new channel and our firs...</td>\n      <td>1</td>\n    </tr>\n    <tr>\n      <th>2</th>\n      <td>LZQPQhLyRh9MSZYnf8djyk0gEF9BHDPYrrK-qCczIY8</td>\n      <td>Evgeny Murashkin</td>\n      <td>2013-11-08T17:34:21</td>\n      <td>just for test I have to say murdev.com</td>\n      <td>1</td>\n    </tr>\n    <tr>\n      <th>3</th>\n      <td>z13jhp0bxqncu512g22wvzkasxmvvzjaz04</td>\n      <td>ElNino Melendez</td>\n      <td>2013-11-09T08:28:43</td>\n      <td>me shaking my sexy ass on my channel enjoy ^_^ ﻿</td>\n      <td>1</td>\n    </tr>\n    <tr>\n      <th>4</th>\n      <td>z13fwbwp1oujthgqj04chlngpvzmtt3r3dw</td>\n      <td>GsMega</td>\n      <td>2013-11-10T16:05:38</td>\n      <td>watch?v=vtaRGgvGtWQ   Check this out .﻿</td>\n      <td>1</td>\n    </tr>\n    <tr>\n      <th>...</th>\n      <td>...</td>\n      <td>...</td>\n      <td>...</td>\n      <td>...</td>\n      <td>...</td>\n    </tr>\n    <tr>\n      <th>365</th>\n      <td>_2viQ_Qnc6-bMSjqyL1NKj57ROicCSJV5SwTrw-RFFA</td>\n      <td>Katie Mettam</td>\n      <td>2013-07-13T13:27:39.441000</td>\n      <td>I love this song because we sing it at Camp al...</td>\n      <td>0</td>\n    </tr>\n    <tr>\n      <th>366</th>\n      <td>_2viQ_Qnc6-pY-1yR6K2FhmC5i48-WuNx5CumlHLDAI</td>\n      <td>Sabina Pearson-Smith</td>\n      <td>2013-07-13T13:14:30.021000</td>\n      <td>I love this song for two reasons: 1.it is abou...</td>\n      <td>0</td>\n    </tr>\n    <tr>\n      <th>367</th>\n      <td>_2viQ_Qnc6_k_n_Bse9zVhJP8tJReZpo8uM2uZfnzDs</td>\n      <td>jeffrey jules</td>\n      <td>2013-07-13T12:09:31.188000</td>\n      <td>wow</td>\n      <td>0</td>\n    </tr>\n    <tr>\n      <th>368</th>\n      <td>_2viQ_Qnc6_yBt8UGMWyg3vh0PulTqcqyQtdE7d4Fl0</td>\n      <td>Aishlin Maciel</td>\n      <td>2013-07-13T11:17:52.308000</td>\n      <td>Shakira u are so wiredo</td>\n      <td>0</td>\n    </tr>\n    <tr>\n      <th>369</th>\n      <td>_2viQ_Qnc685RPw1aSa1tfrIuHXRvAQ2rPT9R06KTqA</td>\n      <td>Latin Bosch</td>\n      <td>2013-07-12T22:33:27.916000</td>\n      <td>Shakira is the best dancer</td>\n      <td>0</td>\n    </tr>\n  </tbody>\n</table>\n<p>1956 rows × 5 columns</p>\n</div>"
     },
     "execution_count": 254,
     "metadata": {},
     "output_type": "execute_result"
    }
   ],
   "source": [
    "df"
   ],
   "metadata": {
    "collapsed": false,
    "pycharm": {
     "name": "#%%\n"
    }
   }
  },
  {
   "cell_type": "markdown",
   "source": [
    "We will get rid of COMMENT_ID, AUTHOR and DATE features since we focus only on text and we will extract features from the words."
   ],
   "metadata": {
    "collapsed": false
   }
  },
  {
   "cell_type": "code",
   "execution_count": 255,
   "outputs": [
    {
     "data": {
      "text/plain": "                                               CONTENT  CLASS\n0    Huh, anyway check out this you[tube] channel: ...      1\n1    Hey guys check out my new channel and our firs...      1\n2               just for test I have to say murdev.com      1\n3     me shaking my sexy ass on my channel enjoy ^_^ ﻿      1\n4              watch?v=vtaRGgvGtWQ   Check this out .﻿      1\n..                                                 ...    ...\n365  I love this song because we sing it at Camp al...      0\n366  I love this song for two reasons: 1.it is abou...      0\n367                                                wow      0\n368                            Shakira u are so wiredo      0\n369                         Shakira is the best dancer      0\n\n[1956 rows x 2 columns]",
      "text/html": "<div>\n<style scoped>\n    .dataframe tbody tr th:only-of-type {\n        vertical-align: middle;\n    }\n\n    .dataframe tbody tr th {\n        vertical-align: top;\n    }\n\n    .dataframe thead th {\n        text-align: right;\n    }\n</style>\n<table border=\"1\" class=\"dataframe\">\n  <thead>\n    <tr style=\"text-align: right;\">\n      <th></th>\n      <th>CONTENT</th>\n      <th>CLASS</th>\n    </tr>\n  </thead>\n  <tbody>\n    <tr>\n      <th>0</th>\n      <td>Huh, anyway check out this you[tube] channel: ...</td>\n      <td>1</td>\n    </tr>\n    <tr>\n      <th>1</th>\n      <td>Hey guys check out my new channel and our firs...</td>\n      <td>1</td>\n    </tr>\n    <tr>\n      <th>2</th>\n      <td>just for test I have to say murdev.com</td>\n      <td>1</td>\n    </tr>\n    <tr>\n      <th>3</th>\n      <td>me shaking my sexy ass on my channel enjoy ^_^ ﻿</td>\n      <td>1</td>\n    </tr>\n    <tr>\n      <th>4</th>\n      <td>watch?v=vtaRGgvGtWQ   Check this out .﻿</td>\n      <td>1</td>\n    </tr>\n    <tr>\n      <th>...</th>\n      <td>...</td>\n      <td>...</td>\n    </tr>\n    <tr>\n      <th>365</th>\n      <td>I love this song because we sing it at Camp al...</td>\n      <td>0</td>\n    </tr>\n    <tr>\n      <th>366</th>\n      <td>I love this song for two reasons: 1.it is abou...</td>\n      <td>0</td>\n    </tr>\n    <tr>\n      <th>367</th>\n      <td>wow</td>\n      <td>0</td>\n    </tr>\n    <tr>\n      <th>368</th>\n      <td>Shakira u are so wiredo</td>\n      <td>0</td>\n    </tr>\n    <tr>\n      <th>369</th>\n      <td>Shakira is the best dancer</td>\n      <td>0</td>\n    </tr>\n  </tbody>\n</table>\n<p>1956 rows × 2 columns</p>\n</div>"
     },
     "execution_count": 255,
     "metadata": {},
     "output_type": "execute_result"
    }
   ],
   "source": [
    "df.drop(['COMMENT_ID', 'AUTHOR', 'DATE'], axis=1, inplace=True)\n",
    "df"
   ],
   "metadata": {
    "collapsed": false,
    "pycharm": {
     "name": "#%%\n"
    }
   }
  },
  {
   "cell_type": "markdown",
   "source": [
    "## Text Preprocessing\n",
    "\n",
    "With the package nltk we will:\n",
    "- Remove all special characters\n",
    "- Lowercase all the words\n",
    "- Tokenize\n",
    "- Remove stopwords\n",
    "- Lemmatize\n",
    "\n",
    "[Source](https://www.datacamp.com/tutorial/text-classification-python)"
   ],
   "metadata": {
    "collapsed": false
   }
  },
  {
   "cell_type": "code",
   "execution_count": 256,
   "outputs": [
    {
     "data": {
      "text/plain": "                                             CONTENT  CLASS  \\\n0  Huh, anyway check out this you[tube] channel: ...      1   \n1  Hey guys check out my new channel and our firs...      1   \n2             just for test I have to say murdev.com      1   \n3   me shaking my sexy ass on my channel enjoy ^_^ ﻿      1   \n4            watch?v=vtaRGgvGtWQ   Check this out .﻿      1   \n\n                                       CLEAN_CONTENT  \n0             huh anyway check tube channel kobyoshi  \n1  hey guy check new channel first vid u monkey m...  \n2                                test say murdev com  \n3                      shaking sexy as channel enjoy  \n4                          watch v vtarggvgtwq check  ",
      "text/html": "<div>\n<style scoped>\n    .dataframe tbody tr th:only-of-type {\n        vertical-align: middle;\n    }\n\n    .dataframe tbody tr th {\n        vertical-align: top;\n    }\n\n    .dataframe thead th {\n        text-align: right;\n    }\n</style>\n<table border=\"1\" class=\"dataframe\">\n  <thead>\n    <tr style=\"text-align: right;\">\n      <th></th>\n      <th>CONTENT</th>\n      <th>CLASS</th>\n      <th>CLEAN_CONTENT</th>\n    </tr>\n  </thead>\n  <tbody>\n    <tr>\n      <th>0</th>\n      <td>Huh, anyway check out this you[tube] channel: ...</td>\n      <td>1</td>\n      <td>huh anyway check tube channel kobyoshi</td>\n    </tr>\n    <tr>\n      <th>1</th>\n      <td>Hey guys check out my new channel and our firs...</td>\n      <td>1</td>\n      <td>hey guy check new channel first vid u monkey m...</td>\n    </tr>\n    <tr>\n      <th>2</th>\n      <td>just for test I have to say murdev.com</td>\n      <td>1</td>\n      <td>test say murdev com</td>\n    </tr>\n    <tr>\n      <th>3</th>\n      <td>me shaking my sexy ass on my channel enjoy ^_^ ﻿</td>\n      <td>1</td>\n      <td>shaking sexy as channel enjoy</td>\n    </tr>\n    <tr>\n      <th>4</th>\n      <td>watch?v=vtaRGgvGtWQ   Check this out .﻿</td>\n      <td>1</td>\n      <td>watch v vtarggvgtwq check</td>\n    </tr>\n  </tbody>\n</table>\n</div>"
     },
     "execution_count": 256,
     "metadata": {},
     "output_type": "execute_result"
    }
   ],
   "source": [
    "text = list(df['CONTENT'])\n",
    "lemmatizer = WordNetLemmatizer()\n",
    "corpus = []\n",
    "\n",
    "for i in range(len(text)):\n",
    "    r = re.sub('[^a-zA-Z]', ' ', text[i])\n",
    "    r = r.lower()\n",
    "    r = r.split()\n",
    "    r = [word for word in r if word not in stopwords.words('english')]\n",
    "    r = [lemmatizer.lemmatize(word) for word in r]\n",
    "    r = ' '.join(r)\n",
    "    corpus.append(r)\n",
    "\n",
    "df['CLEAN_CONTENT'] = corpus\n",
    "\n",
    "df.head()"
   ],
   "metadata": {
    "collapsed": false,
    "pycharm": {
     "name": "#%%\n"
    }
   }
  },
  {
   "cell_type": "markdown",
   "source": [
    "### Train/Test Split"
   ],
   "metadata": {
    "collapsed": false
   }
  },
  {
   "cell_type": "code",
   "execution_count": 257,
   "outputs": [],
   "source": [
    "# Split dataset into training set and test set\n",
    "X_train, X_test, y_train, y_test = train_test_split(df['CLEAN_CONTENT'],\n",
    "                                                    df['CLASS'], test_size=0.3,random_state=109) # 70% training and 30% test"
   ],
   "metadata": {
    "collapsed": false,
    "pycharm": {
     "name": "#%%\n"
    }
   }
  },
  {
   "cell_type": "markdown",
   "source": [
    "## Feature Extraction\n",
    "\n",
    "### I - CountVectorizer\n",
    "\n",
    "We will use CountVectorizer from sklearn in order to convert clean text into features"
   ],
   "metadata": {
    "collapsed": false
   }
  },
  {
   "cell_type": "code",
   "execution_count": 258,
   "outputs": [
    {
     "data": {
      "text/plain": "(1369, 3095)"
     },
     "execution_count": 258,
     "metadata": {},
     "output_type": "execute_result"
    }
   ],
   "source": [
    "# Train Bag of Words model\n",
    "\n",
    "cv = CountVectorizer()\n",
    "X_train_cv = cv.fit_transform(X_train)\n",
    "\n",
    "X_train_cv.shape"
   ],
   "metadata": {
    "collapsed": false,
    "pycharm": {
     "name": "#%%\n"
    }
   }
  },
  {
   "cell_type": "markdown",
   "source": [
    "Getting the feature names"
   ],
   "metadata": {
    "collapsed": false
   }
  },
  {
   "cell_type": "code",
   "execution_count": 259,
   "outputs": [
    {
     "data": {
      "text/plain": "array(['aa', 'aaa', 'aaaaaaa', ..., 'zvrrp', 'zx', 'zxlightsoutxz'],\n      dtype=object)"
     },
     "execution_count": 259,
     "metadata": {},
     "output_type": "execute_result"
    }
   ],
   "source": [
    "cv.get_feature_names_out()"
   ],
   "metadata": {
    "collapsed": false,
    "pycharm": {
     "name": "#%%\n"
    }
   }
  },
  {
   "cell_type": "markdown",
   "source": [
    "### II - Word2Vec\n",
    "\n",
    "We will also use Word2Vec approach using gensim model."
   ],
   "metadata": {
    "collapsed": false
   }
  },
  {
   "cell_type": "markdown",
   "source": [
    "Parameters used:\n",
    "- vector_size - size of the vectors we want\n",
    "- window - number words before and after the focus word that it’ll consider as context for the word\n",
    "- min_count - the number of times a word must appear in our corpus in order to create a word vector."
   ],
   "metadata": {
    "collapsed": false
   }
  },
  {
   "cell_type": "markdown",
   "source": [
    "Sources: [S1](https://medium.com/analytics-vidhya/nlp-tutorial-for-text-classification-in-python-8f19cd17b49e) and [S2](https://medium.com/@dilip.voleti/classification-using-word2vec-b1d79d375381) and [S3](https://spotintelligence.com/2023/02/15/word2vec-for-text-classification/)"
   ],
   "metadata": {
    "collapsed": false
   }
  },
  {
   "cell_type": "code",
   "execution_count": 260,
   "outputs": [],
   "source": [
    "sentences = [sentence.split() for sentence in X_train]\n",
    "w2v_model = Word2Vec(sentences, vector_size=100, window=5, min_count=5)"
   ],
   "metadata": {
    "collapsed": false,
    "pycharm": {
     "name": "#%%\n"
    }
   }
  },
  {
   "cell_type": "markdown",
   "source": [
    "Convert the preprocessed text data to a vector representation using the Word2Vec model."
   ],
   "metadata": {
    "collapsed": false
   }
  },
  {
   "cell_type": "code",
   "execution_count": 261,
   "outputs": [],
   "source": [
    "def vectorize(sentence):\n",
    "    words = sentence.split()\n",
    "    words_vecs = [w2v_model.wv[word] for word in words if word in w2v_model.wv]\n",
    "    if len(words_vecs) == 0:\n",
    "        return np.zeros(100)\n",
    "    words_vecs = np.array(words_vecs)\n",
    "    return words_vecs.mean(axis=0)\n",
    "\n",
    "X_train_vec = np.array([vectorize(sentence) for sentence in X_train])"
   ],
   "metadata": {
    "collapsed": false,
    "pycharm": {
     "name": "#%%\n"
    }
   }
  },
  {
   "cell_type": "markdown",
   "source": [
    "### III - TF-IDF"
   ],
   "metadata": {
    "collapsed": false
   }
  },
  {
   "cell_type": "code",
   "execution_count": 262,
   "outputs": [],
   "source": [
    "from sklearn.feature_extraction.text import TfidfVectorizer\n",
    "\n",
    "#Tf-Idf\n",
    "tfidf_vectorizer = TfidfVectorizer(use_idf=True)\n",
    "X_train_vectors_tfidf = tfidf_vectorizer.fit_transform(X_train)"
   ],
   "metadata": {
    "collapsed": false,
    "pycharm": {
     "name": "#%%\n"
    }
   }
  },
  {
   "cell_type": "markdown",
   "source": [
    "## Train & Evaluate"
   ],
   "metadata": {
    "collapsed": false
   }
  },
  {
   "cell_type": "markdown",
   "source": [
    "### Logistic Regression"
   ],
   "metadata": {
    "collapsed": false
   }
  },
  {
   "cell_type": "code",
   "execution_count": 263,
   "outputs": [],
   "source": [
    "# Training Logistic Regression model\n",
    "\n",
    "lr_1 = LogisticRegression()\n",
    "lr_2 = LogisticRegression()\n",
    "lr_3 = LogisticRegression()\n",
    "lr_1.fit(X_train_cv, y_train)\n",
    "lr_2.fit(X_train_vec, y_train)\n",
    "lr_3.fit(X_train_vectors_tfidf, y_train)\n",
    "\n",
    "# transform X_test using CV\n",
    "X_test_cv = cv.transform(X_test)\n",
    "X_test_vec = np.array([vectorize(sentence) for sentence in X_test])\n",
    "X_test_vectors_tfidf = tfidf_vectorizer.transform(X_test)\n",
    "\n",
    "# generate predictions\n",
    "y_pred_cv = lr_1.predict(X_test_cv)\n",
    "y_pred_vec = lr_2.predict(X_test_vec)\n",
    "y_pred_tfidf = lr_3.predict(X_test_vectors_tfidf)"
   ],
   "metadata": {
    "collapsed": false,
    "pycharm": {
     "name": "#%%\n"
    }
   }
  },
  {
   "cell_type": "markdown",
   "source": [
    "### Confusion matrix for CountVectorizer"
   ],
   "metadata": {
    "collapsed": false
   }
  },
  {
   "cell_type": "code",
   "execution_count": 264,
   "outputs": [
    {
     "data": {
      "text/plain": "          spam  not spam\nspam       274         6\nnot spam    24       283",
      "text/html": "<div>\n<style scoped>\n    .dataframe tbody tr th:only-of-type {\n        vertical-align: middle;\n    }\n\n    .dataframe tbody tr th {\n        vertical-align: top;\n    }\n\n    .dataframe thead th {\n        text-align: right;\n    }\n</style>\n<table border=\"1\" class=\"dataframe\">\n  <thead>\n    <tr style=\"text-align: right;\">\n      <th></th>\n      <th>spam</th>\n      <th>not spam</th>\n    </tr>\n  </thead>\n  <tbody>\n    <tr>\n      <th>spam</th>\n      <td>274</td>\n      <td>6</td>\n    </tr>\n    <tr>\n      <th>not spam</th>\n      <td>24</td>\n      <td>283</td>\n    </tr>\n  </tbody>\n</table>\n</div>"
     },
     "execution_count": 264,
     "metadata": {},
     "output_type": "execute_result"
    }
   ],
   "source": [
    "# confusion matrix\n",
    "\n",
    "confusion_matrix = pd.DataFrame(metrics.confusion_matrix(y_test, y_pred_cv), index=['spam','not spam'], columns=['spam','not spam'])\n",
    "\n",
    "confusion_matrix"
   ],
   "metadata": {
    "collapsed": false,
    "pycharm": {
     "name": "#%%\n"
    }
   }
  },
  {
   "cell_type": "markdown",
   "source": [
    "### Confusion matrix for Word2Vec"
   ],
   "metadata": {
    "collapsed": false
   }
  },
  {
   "cell_type": "code",
   "execution_count": 265,
   "outputs": [
    {
     "data": {
      "text/plain": "          spam  not spam\nspam       195        85\nnot spam    61       246",
      "text/html": "<div>\n<style scoped>\n    .dataframe tbody tr th:only-of-type {\n        vertical-align: middle;\n    }\n\n    .dataframe tbody tr th {\n        vertical-align: top;\n    }\n\n    .dataframe thead th {\n        text-align: right;\n    }\n</style>\n<table border=\"1\" class=\"dataframe\">\n  <thead>\n    <tr style=\"text-align: right;\">\n      <th></th>\n      <th>spam</th>\n      <th>not spam</th>\n    </tr>\n  </thead>\n  <tbody>\n    <tr>\n      <th>spam</th>\n      <td>195</td>\n      <td>85</td>\n    </tr>\n    <tr>\n      <th>not spam</th>\n      <td>61</td>\n      <td>246</td>\n    </tr>\n  </tbody>\n</table>\n</div>"
     },
     "execution_count": 265,
     "metadata": {},
     "output_type": "execute_result"
    }
   ],
   "source": [
    "confusion_matrix = pd.DataFrame(metrics.confusion_matrix(y_test, y_pred_vec), index=['spam','not spam'], columns=['spam','not spam'])\n",
    "\n",
    "confusion_matrix"
   ],
   "metadata": {
    "collapsed": false,
    "pycharm": {
     "name": "#%%\n"
    }
   }
  },
  {
   "cell_type": "markdown",
   "source": [
    "### Confusion matrix for TF-IDF"
   ],
   "metadata": {
    "collapsed": false
   }
  },
  {
   "cell_type": "code",
   "execution_count": 266,
   "outputs": [
    {
     "data": {
      "text/plain": "          spam  not spam\nspam       268        12\nnot spam    23       284",
      "text/html": "<div>\n<style scoped>\n    .dataframe tbody tr th:only-of-type {\n        vertical-align: middle;\n    }\n\n    .dataframe tbody tr th {\n        vertical-align: top;\n    }\n\n    .dataframe thead th {\n        text-align: right;\n    }\n</style>\n<table border=\"1\" class=\"dataframe\">\n  <thead>\n    <tr style=\"text-align: right;\">\n      <th></th>\n      <th>spam</th>\n      <th>not spam</th>\n    </tr>\n  </thead>\n  <tbody>\n    <tr>\n      <th>spam</th>\n      <td>268</td>\n      <td>12</td>\n    </tr>\n    <tr>\n      <th>not spam</th>\n      <td>23</td>\n      <td>284</td>\n    </tr>\n  </tbody>\n</table>\n</div>"
     },
     "execution_count": 266,
     "metadata": {},
     "output_type": "execute_result"
    }
   ],
   "source": [
    "confusion_matrix = pd.DataFrame(metrics.confusion_matrix(y_test, y_pred_tfidf), index=['spam','not spam'], columns=['spam','not spam'])\n",
    "\n",
    "confusion_matrix"
   ],
   "metadata": {
    "collapsed": false,
    "pycharm": {
     "name": "#%%\n"
    }
   }
  },
  {
   "cell_type": "markdown",
   "source": [
    "### Results"
   ],
   "metadata": {
    "collapsed": false
   }
  },
  {
   "cell_type": "code",
   "execution_count": 267,
   "outputs": [
    {
     "name": "stdout",
     "output_type": "stream",
     "text": [
      "CountVectorizer Score:\n",
      "Accuracy: 0.948892674616695\n",
      "Precision: 0.9792387543252595\n",
      "Recall: 0.9218241042345277\n",
      "F1 score: 0.9496644295302012\n"
     ]
    }
   ],
   "source": [
    "print('CountVectorizer Score:')\n",
    "print('Accuracy:', accuracy_score(y_test, y_pred_cv))\n",
    "print('Precision:', precision_score(y_test, y_pred_cv))\n",
    "print('Recall:', recall_score(y_test, y_pred_cv))\n",
    "print('F1 score:', f1_score(y_test, y_pred_cv))"
   ],
   "metadata": {
    "collapsed": false,
    "pycharm": {
     "name": "#%%\n"
    }
   }
  },
  {
   "cell_type": "markdown",
   "source": [],
   "metadata": {
    "collapsed": false,
    "pycharm": {
     "name": "#%% md\n"
    }
   }
  },
  {
   "cell_type": "code",
   "execution_count": 268,
   "outputs": [
    {
     "name": "stdout",
     "output_type": "stream",
     "text": [
      "Word2Vec Score:\n",
      "Accuracy: 0.7512776831345827\n",
      "Precision: 0.743202416918429\n",
      "Recall: 0.8013029315960912\n",
      "F1 score: 0.7711598746081505\n"
     ]
    }
   ],
   "source": [
    "print('Word2Vec Score:')\n",
    "print('Accuracy:', accuracy_score(y_test, y_pred_vec))\n",
    "print('Precision:', precision_score(y_test, y_pred_vec))\n",
    "print('Recall:', recall_score(y_test, y_pred_vec))\n",
    "print('F1 score:', f1_score(y_test, y_pred_vec))"
   ],
   "metadata": {
    "collapsed": false,
    "pycharm": {
     "name": "#%%\n"
    }
   }
  },
  {
   "cell_type": "code",
   "execution_count": 269,
   "outputs": [
    {
     "name": "stdout",
     "output_type": "stream",
     "text": [
      "TF-IDF Score:\n",
      "Accuracy: 0.9403747870528109\n",
      "Precision: 0.9594594594594594\n",
      "Recall: 0.9250814332247557\n",
      "F1 score: 0.9419568822553896\n"
     ]
    }
   ],
   "source": [
    "print('TF-IDF Score:')\n",
    "print('Accuracy:', accuracy_score(y_test, y_pred_tfidf))\n",
    "print('Precision:', precision_score(y_test, y_pred_tfidf))\n",
    "print('Recall:', recall_score(y_test, y_pred_tfidf))\n",
    "print('F1 score:', f1_score(y_test, y_pred_tfidf))"
   ],
   "metadata": {
    "collapsed": false,
    "pycharm": {
     "name": "#%%\n"
    }
   }
  },
  {
   "cell_type": "markdown",
   "source": [
    "### Naive Bayes Model - only for CountVectorizer approach due to negative values from Word2Vec"
   ],
   "metadata": {
    "collapsed": false
   }
  },
  {
   "cell_type": "code",
   "execution_count": 270,
   "outputs": [],
   "source": [
    "from sklearn.naive_bayes import MultinomialNB\n",
    "\n",
    "#Create a svm Classifier\n",
    "clf_1 = MultinomialNB()\n",
    "clf_2 = MultinomialNB()\n",
    "\n",
    "#Train the model using the training sets\n",
    "clf_1.fit(X_train_cv, y_train.values.ravel())\n",
    "clf_2.fit(X_train_vectors_tfidf, y_train.values.ravel())\n",
    "\n",
    "# transform X_test using CV\n",
    "X_test_cv = cv.transform(X_test)\n",
    "X_test_vec = np.array([vectorize(sentence) for sentence in X_test])\n",
    "X_test_vectors_tfidf = tfidf_vectorizer.transform(X_test)\n",
    "\n",
    "# generate predictions\n",
    "y_pred_cv = clf_1.predict(X_test_cv)\n",
    "y_pred_tfidf = clf_2.predict(X_test_vectors_tfidf)"
   ],
   "metadata": {
    "collapsed": false,
    "pycharm": {
     "name": "#%%\n"
    }
   }
  },
  {
   "cell_type": "markdown",
   "source": [],
   "metadata": {
    "collapsed": false
   }
  },
  {
   "cell_type": "markdown",
   "source": [
    "### Results"
   ],
   "metadata": {
    "collapsed": false
   }
  },
  {
   "cell_type": "code",
   "execution_count": 271,
   "outputs": [
    {
     "name": "stdout",
     "output_type": "stream",
     "text": [
      "CountVectorizer Score:\n",
      "Accuracy: 0.9148211243611585\n",
      "Precision: 0.8953846153846153\n",
      "Recall: 0.9478827361563518\n",
      "F1 score: 0.9208860759493671\n"
     ]
    }
   ],
   "source": [
    "print('CountVectorizer Score:')\n",
    "print('Accuracy:', accuracy_score(y_test, y_pred_cv))\n",
    "print('Precision:', precision_score(y_test, y_pred_cv))\n",
    "print('Recall:', recall_score(y_test, y_pred_cv))\n",
    "print('F1 score:', f1_score(y_test, y_pred_cv))"
   ],
   "metadata": {
    "collapsed": false,
    "pycharm": {
     "name": "#%%\n"
    }
   }
  },
  {
   "cell_type": "code",
   "execution_count": 272,
   "outputs": [
    {
     "name": "stdout",
     "output_type": "stream",
     "text": [
      "TF-IDF Score:\n",
      "Accuracy: 0.9063032367972743\n",
      "Precision: 0.8913043478260869\n",
      "Recall: 0.9348534201954397\n",
      "F1 score: 0.9125596184419713\n"
     ]
    }
   ],
   "source": [
    "print('TF-IDF Score:')\n",
    "print('Accuracy:', accuracy_score(y_test, y_pred_tfidf))\n",
    "print('Precision:', precision_score(y_test, y_pred_tfidf))\n",
    "print('Recall:', recall_score(y_test, y_pred_tfidf))\n",
    "print('F1 score:', f1_score(y_test, y_pred_tfidf))"
   ],
   "metadata": {
    "collapsed": false,
    "pycharm": {
     "name": "#%%\n"
    }
   }
  },
  {
   "cell_type": "markdown",
   "source": [
    "## Overall Results"
   ],
   "metadata": {
    "collapsed": false
   }
  },
  {
   "cell_type": "markdown",
   "source": [
    "|              Approach               | Accuracy | Precision | Recall | F1-Score |\n",
    "|:-----------------------------------:|:--------:|:---------:|:------:|:--------:|\n",
    "| Logistic Regression CountVectorizer |   0.94   |   0.97    |  0.92  |   0.94   |\n",
    "|    Logistic Regression Word2Vec     |   0.75   |   0.74    |  0.80  |   0.77   |\n",
    "|     Logistic Regression TF-IDF      |   0.94   |   0.95    |  0.92  |   0.94   |\n",
    "|     Naive Bayes CountVectorizer     |   0.91   |   0.89    |  0.94  |   0.92   |\n",
    "|         Naive Bayes TF-IDF          |   0.90   |   0.89    |  0.93  |   0.91   |"
   ],
   "metadata": {
    "collapsed": false
   }
  },
  {
   "cell_type": "markdown",
   "source": [
    "## Conclusions"
   ],
   "metadata": {
    "collapsed": false
   }
  },
  {
   "cell_type": "markdown",
   "source": [
    "- For this type of dataset and the size of it, CountVectorizer did better with a Logistic regression than a Naive Bayes approach\n",
    "- Word2Vec is still a good approach and gives good results with a Logistic Regression\n",
    "- Word2Vec doesn't get good results as CountVectorizer since the corpus is not very large and also the randomness of the messages is quite high, being there possible content that doesn't make connection between each words\n",
    "- The results overall are good, but this doesn't prove that Word2Vec is a worse approach than CountVectorizer\n",
    "- Also, another interesting results is, even though CountVectorizer is used or said to be equivalent with TF-IDF, in practice, in ML it is not true. We can see from this table that the results are slightly changed and CountVectorizer tends to be better in two models for this dataset\n",
    "- But still, we cannot say that CountVectorizer is better than TF-IDF model from sklearn, but only for this specific case"
   ],
   "metadata": {
    "collapsed": false
   }
  }
 ],
 "metadata": {
  "kernelspec": {
   "display_name": "Python 3",
   "language": "python",
   "name": "python3"
  },
  "language_info": {
   "codemirror_mode": {
    "name": "ipython",
    "version": 2
   },
   "file_extension": ".py",
   "mimetype": "text/x-python",
   "name": "python",
   "nbconvert_exporter": "python",
   "pygments_lexer": "ipython2",
   "version": "2.7.6"
  }
 },
 "nbformat": 4,
 "nbformat_minor": 0
}