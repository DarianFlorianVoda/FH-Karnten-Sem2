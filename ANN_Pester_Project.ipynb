{
 "cells": [
  {
   "cell_type": "markdown",
   "source": [
    "Ideas:\n",
    "\n",
    "\n",
    "*   Confuse the ANN models\n",
    "    * Confuse only one model\n",
    "    * Confuse more models and see which does better\n",
    "    * Confuse using rotation/blurry/modification/etc.\n",
    "*   Create output of accuracy on each layer in order to see how it improves/downgrades\n",
    "\n"
   ],
   "metadata": {
    "collapsed": false
   }
  },
  {
   "cell_type": "code",
   "execution_count": null,
   "metadata": {
    "collapsed": true
   },
   "outputs": [],
   "source": [
    "import keras\n",
    "import tensorflow as tf\n",
    "\n",
    "\n",
    "(x_train, y_train), (x_test, y_test) = keras.datasets.cifar10.load_data()\n",
    "\n",
    "print(f\"x_train: {x_train}\")"
   ]
  }
 ],
 "metadata": {
  "kernelspec": {
   "display_name": "Python 3",
   "language": "python",
   "name": "python3"
  },
  "language_info": {
   "codemirror_mode": {
    "name": "ipython",
    "version": 2
   },
   "file_extension": ".py",
   "mimetype": "text/x-python",
   "name": "python",
   "nbconvert_exporter": "python",
   "pygments_lexer": "ipython2",
   "version": "2.7.6"
  }
 },
 "nbformat": 4,
 "nbformat_minor": 0
}
